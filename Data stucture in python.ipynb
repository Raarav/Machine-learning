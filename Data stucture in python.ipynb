{
 "cells": [
  {
   "cell_type": "markdown",
   "metadata": {},
   "source": [
    "# Data stucture in python"
   ]
  },
  {
   "cell_type": "markdown",
   "metadata": {},
   "source": [
    "### Q:- Stack "
   ]
  },
  {
   "cell_type": "markdown",
   "metadata": {},
   "source": [
    "#### Lecture_1"
   ]
  },
  {
   "cell_type": "code",
   "execution_count": 39,
   "metadata": {},
   "outputs": [
    {
     "name": "stdout",
     "output_type": "stream",
     "text": [
      "['A', 'B']\n"
     ]
    }
   ],
   "source": [
    "class Stack():\n",
    "    def __init__(self):\n",
    "        self.items = []\n",
    "    def push(self, item):\n",
    "        self.items.append(item)\n",
    "    def pop(self):\n",
    "        return self.items.pop()\n",
    "    def get_stack(self):\n",
    "        return self.items\n",
    "    def is_empty(self):\n",
    "        return self.items==[]\n",
    "    def peek(self):\n",
    "        if not self.is_empty():\n",
    "            return self.items[-2] \n",
    "s=Stack()\n",
    "s.push(\"A\")\n",
    "s.push(\"B\")\n",
    "print(s.get_stack())\n",
    "    "
   ]
  },
  {
   "cell_type": "code",
   "execution_count": 40,
   "metadata": {},
   "outputs": [
    {
     "data": {
      "text/plain": [
       "'B'"
      ]
     },
     "execution_count": 40,
     "metadata": {},
     "output_type": "execute_result"
    }
   ],
   "source": [
    "s.pop()"
   ]
  },
  {
   "cell_type": "code",
   "execution_count": 41,
   "metadata": {},
   "outputs": [],
   "source": [
    "s.push(\"A\")"
   ]
  },
  {
   "cell_type": "code",
   "execution_count": 42,
   "metadata": {},
   "outputs": [
    {
     "name": "stdout",
     "output_type": "stream",
     "text": [
      "['A', 'A']\n"
     ]
    }
   ],
   "source": [
    "print(s.get_stack())"
   ]
  },
  {
   "cell_type": "code",
   "execution_count": 43,
   "metadata": {},
   "outputs": [
    {
     "data": {
      "text/plain": [
       "'A'"
      ]
     },
     "execution_count": 43,
     "metadata": {},
     "output_type": "execute_result"
    }
   ],
   "source": [
    "s.pop()"
   ]
  },
  {
   "cell_type": "code",
   "execution_count": 44,
   "metadata": {},
   "outputs": [
    {
     "data": {
      "text/plain": [
       "'A'"
      ]
     },
     "execution_count": 44,
     "metadata": {},
     "output_type": "execute_result"
    }
   ],
   "source": [
    "s.pop()"
   ]
  },
  {
   "cell_type": "code",
   "execution_count": 45,
   "metadata": {},
   "outputs": [
    {
     "name": "stdout",
     "output_type": "stream",
     "text": [
      "[]\n"
     ]
    }
   ],
   "source": [
    "print(s.get_stack())"
   ]
  },
  {
   "cell_type": "code",
   "execution_count": 46,
   "metadata": {},
   "outputs": [],
   "source": [
    "s.push(\"B\")\n",
    "s.push(\"C\")\n",
    "s.push(\"D\")\n",
    "s.push(\"E\")\n",
    "s.push(\"F\")\n",
    "s.push(\"G\")\n",
    "s.push(\"H\")\n",
    "s.push(\"I\")\n",
    "s.push(\"J\")\n",
    "s.push(\"K\")"
   ]
  },
  {
   "cell_type": "code",
   "execution_count": 47,
   "metadata": {},
   "outputs": [
    {
     "name": "stdout",
     "output_type": "stream",
     "text": [
      "['B', 'C', 'D', 'E', 'F', 'G', 'H', 'I', 'J', 'K']\n"
     ]
    }
   ],
   "source": [
    "print(s.get_stack())"
   ]
  },
  {
   "cell_type": "code",
   "execution_count": 48,
   "metadata": {},
   "outputs": [
    {
     "name": "stdout",
     "output_type": "stream",
     "text": [
      "False\n"
     ]
    }
   ],
   "source": [
    "print(s.is_empty())"
   ]
  },
  {
   "cell_type": "code",
   "execution_count": 49,
   "metadata": {},
   "outputs": [
    {
     "name": "stdout",
     "output_type": "stream",
     "text": [
      "J\n"
     ]
    }
   ],
   "source": [
    "print(s.peek()) #peek for showing the value in list"
   ]
  },
  {
   "cell_type": "markdown",
   "metadata": {},
   "source": [
    "#### Lecture_2"
   ]
  },
  {
   "cell_type": "markdown",
   "metadata": {},
   "source": [
    "###### Use a stack check whether or not a string has balanced usage of parenthesis.\n",
    "##### Example: (),()(),({[]}) <-Balanced.\n",
    "##### ((),{{{)}}],[][]]] <- not Balanced."
   ]
  },
  {
   "cell_type": "code",
   "execution_count": 68,
   "metadata": {},
   "outputs": [
    {
     "name": "stdout",
     "output_type": "stream",
     "text": [
      "False\n",
      "True\n"
     ]
    }
   ],
   "source": [
    "class Stack():\n",
    "    def __init__(self):\n",
    "        self.items = []\n",
    "    def push(self, item):\n",
    "        self.items.append(item)\n",
    "    def pop(self):\n",
    "        return self.items.pop()\n",
    "    def get_stack(self):\n",
    "        return self.items\n",
    "    def is_empty(self):\n",
    "        return self.items==[]\n",
    "    def peek(self):\n",
    "        if not self.is_empty():\n",
    "            return self.items[-2]\n",
    "        \n",
    "def is_match(p1, p2):\n",
    "    if p1 == \"{\" and p2 ==\"}\":\n",
    "        return True\n",
    "    elif p1 == \"(\" and p2 == \")\":\n",
    "        return True\n",
    "    elif p1 == \"{\" and p2 == \"}\":\n",
    "        return True\n",
    "    else: \n",
    "        return False\n",
    "    \n",
    "def is_paren_balanced(paren_string):\n",
    "    s=Stack()\n",
    "    is_balanced = True\n",
    "    index = 0\n",
    "    \n",
    "    while index < len(paren_string) and is_balanced:\n",
    "        paren = paren_string[index]\n",
    "        if paren in \"([{\":\n",
    "            s.push(paren)\n",
    "        else:\n",
    "            if s.is_empty():\n",
    "                is_balanced = False\n",
    "            else:\n",
    "                top = s.pop()\n",
    "                if not is_match(top, paren):\n",
    "                    is_balanced = False\n",
    "        index += 1\n",
    "    \n",
    "    if s.is_empty() and is_balanced:\n",
    "        return True\n",
    "    else:\n",
    "        return False\n",
    "\n",
    "print(is_paren_balanced(\"{{{)}}]\"))\n",
    "print(is_paren_balanced(\"{{}}\"))\n",
    "                "
   ]
  },
  {
   "cell_type": "markdown",
   "metadata": {},
   "source": [
    "#### Lecture_3"
   ]
  },
  {
   "cell_type": "markdown",
   "metadata": {},
   "source": [
    "###### Use the stack data structure to convert the integer value to binary value"
   ]
  },
  {
   "cell_type": "code",
   "execution_count": 75,
   "metadata": {},
   "outputs": [
    {
     "name": "stdout",
     "output_type": "stream",
     "text": [
      "242\n",
      "Binary digit is 11110010\n"
     ]
    }
   ],
   "source": [
    "class Stack():\n",
    "    def __init__(self):\n",
    "        self.items = []\n",
    "    def push(self, item):\n",
    "        self.items.append(item)\n",
    "    def pop(self):\n",
    "        return self.items.pop()\n",
    "    def get_stack(self):\n",
    "        return self.items\n",
    "    def is_empty(self):\n",
    "        return self.items==[]\n",
    "    def peek(self):\n",
    "        if not self.is_empty():\n",
    "            return self.items[-2]\n",
    "        \n",
    "def div_by_2(dec_num):\n",
    "    s=Stack()\n",
    "    \n",
    "    while dec_num>0:\n",
    "        reminder=dec_num % 2\n",
    "        s.push(reminder)\n",
    "        dec_num = dec_num // 2\n",
    "        \n",
    "    bin_num = \"\"\n",
    "    \n",
    "    while not s.is_empty():\n",
    "        bin_num += str(s.pop())\n",
    "        \n",
    "    return bin_num\n",
    "\n",
    "print(\"Binary digit is \" + div_by_2(int(input())))       \n",
    "    \n",
    "        \n",
    "    "
   ]
  },
  {
   "cell_type": "markdown",
   "metadata": {},
   "source": [
    "##### Lecture_5"
   ]
  },
  {
   "cell_type": "markdown",
   "metadata": {},
   "source": [
    "##### linklist >>> append"
   ]
  },
  {
   "cell_type": "code",
   "execution_count": 15,
   "metadata": {},
   "outputs": [
    {
     "name": "stdout",
     "output_type": "stream",
     "text": [
      "E\n",
      "A\n",
      "B\n",
      "C\n",
      "F\n",
      "D\n"
     ]
    }
   ],
   "source": [
    "class Node:\n",
    "    def __init__(self, data):\n",
    "        self.data = data\n",
    "        self.next = None\n",
    "\n",
    "class LinkedList:\n",
    "    def __init__(self):\n",
    "        self.head = None\n",
    "    def append(self, data): ##append function\n",
    "        new_node = Node(data)\n",
    "        if self.head is None: ## append at head\n",
    "            self.head = new_node\n",
    "            return \n",
    "        last_node = self.head\n",
    "        while last_node.next: ##append at last\n",
    "            last_node = last_node.next\n",
    "        last_node.next = new_node\n",
    "        \n",
    "    \n",
    "    def print_list(self):\n",
    "        cur_node = self.head\n",
    "        while cur_node:\n",
    "            print(cur_node.data)\n",
    "            cur_node = cur_node.next\n",
    "    \n",
    "    def prepend(self, data): # append at prepend\n",
    "        new_node = Node(data)\n",
    "        new_node.next = self.head\n",
    "        self.head = new_node\n",
    "        \n",
    "    def after_node(self, pre_node, data):\n",
    "        if not pre_node:\n",
    "            print(\"previous node is not in list\")\n",
    "            return\n",
    "        new_node = Node(data)\n",
    "        new_node.next = pre_node.next\n",
    "        pre_node.next = new_node\n",
    "        \n",
    "    def delete_starting_node(self, key):\n",
    "        cur_node = self.head\n",
    "        if cur_node and cur_node.data == key:\n",
    "            self.head = cur_node.next\n",
    "            cur_node = None\n",
    "            return\n",
    "        \n",
    "        \n",
    "            \n",
    "            \n",
    "llist = LinkedList()\n",
    "llist.append(\"A\")\n",
    "llist.append(\"B\")\n",
    "llist.append(\"C\")\n",
    "llist.append(\"D\")\n",
    "llist.prepend(\"E\")\n",
    "llist.after_node(llist.head.next.next.next,\"F\")\n",
    "#llist.delete_starting_node(\"E\")\n",
    "llist.print_list()"
   ]
  },
  {
   "cell_type": "code",
   "execution_count": 28,
   "metadata": {},
   "outputs": [
    {
     "name": "stdout",
     "output_type": "stream",
     "text": [
      "E\n",
      "A\n",
      "B\n",
      "C\n",
      "D\n"
     ]
    }
   ],
   "source": [
    "class Node:\n",
    "    def __init__(self, data):\n",
    "        self.data = data\n",
    "        self.next = None\n",
    "\n",
    "class LinkedList:\n",
    "    def __init__(self):\n",
    "        self.head = None\n",
    "    def append(self, data): ##append function\n",
    "        new_node = Node(data)\n",
    "        if self.head is None: ## append at head\n",
    "            self.head = new_node\n",
    "            return \n",
    "        last_node = self.head\n",
    "        while last_node.next: ##append at last\n",
    "            last_node = last_node.next\n",
    "        last_node.next = new_node\n",
    "        \n",
    "    \n",
    "    def print_list(self):\n",
    "        cur_node = self.head\n",
    "        while cur_node:\n",
    "            print(cur_node.data)\n",
    "            cur_node = cur_node.next\n",
    "    \n",
    "    def prepend(self, data): # append at prepend\n",
    "        new_node = Node(data)\n",
    "        new_node.next = self.head\n",
    "        self.head = new_node\n",
    "        \n",
    "    def after_node(self, pre_node, data):\n",
    "        if not pre_node:\n",
    "            print(\"previous node is not in list\")\n",
    "            return\n",
    "        new_node = Node(data)\n",
    "        new_node.next = pre_node.next\n",
    "        pre_node.next = new_node\n",
    "        \n",
    "    def delete_node(self, key):\n",
    "        cur_node = self.head\n",
    "        if cur_node and cur_node.data == key: #from starting \n",
    "            self.head = cur_node.next\n",
    "            cur_node = None\n",
    "            return\n",
    "        \n",
    "        pre = None\n",
    "        while cur_node and cur_node.data != key:# in between\n",
    "            pre = cur_node\n",
    "            cur_node = cur_node.next\n",
    "            \n",
    "        if cur_node is None:\n",
    "            return\n",
    "        \n",
    "        pre.next = cur_node.next\n",
    "        cur_node = None \n",
    "    \n",
    "    def delete_node_at_pos(self, pos):\n",
    "        cur_node = self.head\n",
    "        \n",
    "        if pos == 0:\n",
    "            self.head = cur_node.next\n",
    "            cur_node = None\n",
    "            return\n",
    "        \n",
    "        pre_node = None\n",
    "        count = 1\n",
    "        while cur_node and count != pos:\n",
    "            pre_node = cur_node\n",
    "            cur_node = cur_node.next\n",
    "            count += 1\n",
    "        pre_node.next = cur_node.next\n",
    "        cur_node = None\n",
    "        \n",
    "        \n",
    "            \n",
    "            \n",
    "llist = LinkedList()\n",
    "llist.append(\"A\")\n",
    "llist.append(\"B\")\n",
    "llist.append(\"C\")\n",
    "llist.append(\"D\")\n",
    "llist.prepend(\"E\")\n",
    "llist.after_node(llist.head.next.next.next,\"F\")\n",
    "llist.delete_node(\"F\")\n",
    "#llist.delete_node_at_pos(2)\n",
    "llist.print_list()"
   ]
  },
  {
   "cell_type": "code",
   "execution_count": 29,
   "metadata": {},
   "outputs": [
    {
     "name": "stdout",
     "output_type": "stream",
     "text": [
      "E\n",
      "B\n",
      "C\n",
      "D\n"
     ]
    }
   ],
   "source": [
    "class Node:\n",
    "    def __init__(self, data):\n",
    "        self.data = data\n",
    "        self.next = None\n",
    "\n",
    "class LinkedList:\n",
    "    def __init__(self):\n",
    "        self.head = None\n",
    "    def append(self, data): ##append function\n",
    "        new_node = Node(data)\n",
    "        if self.head is None: ## append at head\n",
    "            self.head = new_node\n",
    "            return \n",
    "        last_node = self.head\n",
    "        while last_node.next: ##append at last\n",
    "            last_node = last_node.next\n",
    "        last_node.next = new_node\n",
    "        \n",
    "    \n",
    "    def print_list(self):\n",
    "        cur_node = self.head\n",
    "        while cur_node:\n",
    "            print(cur_node.data)\n",
    "            cur_node = cur_node.next\n",
    "    \n",
    "    def prepend(self, data): # append at prepend\n",
    "        new_node = Node(data)\n",
    "        new_node.next = self.head\n",
    "        self.head = new_node\n",
    "        \n",
    "    def after_node(self, pre_node, data):\n",
    "        if not pre_node:\n",
    "            print(\"previous node is not in list\")\n",
    "            return\n",
    "        new_node = Node(data)\n",
    "        new_node.next = pre_node.next\n",
    "        pre_node.next = new_node\n",
    "        \n",
    "    def delete_node(self, key):\n",
    "        cur_node = self.head\n",
    "        if cur_node and cur_node.data == key: #from starting \n",
    "            self.head = cur_node.next\n",
    "            cur_node = None\n",
    "            return\n",
    "        \n",
    "        pre = None\n",
    "        while cur_node and cur_node.data != key:# in between\n",
    "            pre = cur_node\n",
    "            cur_node = cur_node.next\n",
    "            \n",
    "        if cur_node is None:\n",
    "            return\n",
    "        \n",
    "        pre.next = cur_node.next\n",
    "        cur_node = None \n",
    "    \n",
    "    def delete_node_at_pos(self, pos):\n",
    "        cur_node = self.head\n",
    "        \n",
    "        if pos == 0:\n",
    "            self.head = cur_node.next\n",
    "            cur_node = None\n",
    "            return\n",
    "        \n",
    "        pre_node = None\n",
    "        count = 1\n",
    "        while cur_node and count != pos:\n",
    "            pre_node = cur_node\n",
    "            cur_node = cur_node.next\n",
    "            count += 1\n",
    "        pre_node.next = cur_node.next\n",
    "        cur_node = None\n",
    "        \n",
    "        \n",
    "            \n",
    "            \n",
    "llist = LinkedList()\n",
    "llist.append(\"A\")\n",
    "llist.append(\"B\")\n",
    "llist.append(\"C\")\n",
    "llist.append(\"D\")\n",
    "llist.prepend(\"E\")\n",
    "llist.after_node(llist.head.next.next.next,\"F\")\n",
    "llist.delete_node(\"F\")\n",
    "llist.delete_node_at_pos(2)\n",
    "llist.print_list()"
   ]
  },
  {
   "cell_type": "code",
   "execution_count": 40,
   "metadata": {},
   "outputs": [
    {
     "name": "stdout",
     "output_type": "stream",
     "text": [
      "4\n",
      "4\n",
      "E\n",
      "B\n",
      "C\n",
      "D\n"
     ]
    }
   ],
   "source": [
    "class Node:\n",
    "    def __init__(self, data):\n",
    "        self.data = data\n",
    "        self.next = None\n",
    "\n",
    "class LinkedList:\n",
    "    def __init__(self):\n",
    "        self.head = None\n",
    "    def append(self, data): ##append function\n",
    "        new_node = Node(data)\n",
    "        if self.head is None: ## append at head\n",
    "            self.head = new_node\n",
    "            return \n",
    "        last_node = self.head\n",
    "        while last_node.next: ##append at last\n",
    "            last_node = last_node.next\n",
    "        last_node.next = new_node\n",
    "        \n",
    "    \n",
    "    def print_list(self):\n",
    "        cur_node = self.head\n",
    "        while cur_node:\n",
    "            print(cur_node.data)\n",
    "            cur_node = cur_node.next\n",
    "    \n",
    "    def prepend(self, data): # append at prepend\n",
    "        new_node = Node(data)\n",
    "        new_node.next = self.head\n",
    "        self.head = new_node\n",
    "        \n",
    "    def after_node(self, pre_node, data):\n",
    "        if not pre_node:\n",
    "            print(\"previous node is not in list\")\n",
    "            return\n",
    "        new_node = Node(data)\n",
    "        new_node.next = pre_node.next\n",
    "        pre_node.next = new_node\n",
    "        \n",
    "    def delete_node(self, key):\n",
    "        cur_node = self.head\n",
    "        if cur_node and cur_node.data == key: #from starting \n",
    "            self.head = cur_node.next\n",
    "            cur_node = None\n",
    "            return\n",
    "        \n",
    "        pre = None\n",
    "        while cur_node and cur_node.data != key:# in between\n",
    "            pre = cur_node\n",
    "            cur_node = cur_node.next\n",
    "            \n",
    "        if cur_node is None:\n",
    "            return\n",
    "        \n",
    "        pre.next = cur_node.next\n",
    "        cur_node = None \n",
    "    \n",
    "    def delete_node_at_pos(self, pos):\n",
    "        cur_node = self.head\n",
    "        \n",
    "        if pos == 0:\n",
    "            self.head = cur_node.next\n",
    "            cur_node = None\n",
    "            return\n",
    "        \n",
    "        pre_node = None\n",
    "        count = 1\n",
    "        while cur_node and count != pos:\n",
    "            pre_node = cur_node\n",
    "            cur_node = cur_node.next\n",
    "            count += 1\n",
    "        pre_node.next = cur_node.next\n",
    "        cur_node = None\n",
    "    \n",
    "        \n",
    "    def len_iterative(self):\n",
    "            count = 0\n",
    "            cur_node = self.head\n",
    "            \n",
    "            while cur_node:\n",
    "                count += 1\n",
    "                cur_node = cur_node.next\n",
    "            return count\n",
    "    \n",
    "        \n",
    "    def len_recursive(self, node):\n",
    "            if node is None:\n",
    "                return 0\n",
    "            return 1 + self.len_recursive(node.next)\n",
    "        \n",
    "        \n",
    "            \n",
    "            \n",
    "llist = LinkedList()\n",
    "llist.append(\"A\")\n",
    "llist.append(\"B\")\n",
    "llist.append(\"C\")\n",
    "llist.append(\"D\")\n",
    "llist.prepend(\"E\")\n",
    "llist.after_node(llist.head.next.next.next,\"F\")\n",
    "llist.delete_node(\"F\")\n",
    "llist.delete_node_at_pos(2)\n",
    "print(llist.len_iterative())\n",
    "print(llist.len_recursive(llist.head))\n",
    "llist.print_list()"
   ]
  },
  {
   "cell_type": "markdown",
   "metadata": {},
   "source": [
    "# Stack reverse string"
   ]
  },
  {
   "cell_type": "code",
   "execution_count": 63,
   "metadata": {},
   "outputs": [
    {
     "name": "stdout",
     "output_type": "stream",
     "text": [
      "CBA\n"
     ]
    }
   ],
   "source": [
    "class Stack():\n",
    "    def __init__(self):\n",
    "        self.items = []\n",
    "        \n",
    "    def push(self, item):\n",
    "        self.items.append(item)\n",
    "        \n",
    "    def pop(self):\n",
    "        return self.items.pop()\n",
    "    \n",
    "    def is_empty(self):\n",
    "        return self.items == []\n",
    "    \n",
    "    def peek(self):\n",
    "        if not self.is_empty():\n",
    "            return self.items[-1]\n",
    "    \n",
    "    def get_stack(self):\n",
    "        string = \"\"\n",
    "        while self.items:\n",
    "            string += self.items.pop()\n",
    "        return string\n",
    "    \n",
    "s = Stack()\n",
    "s.push(\"A\")\n",
    "s.push(\"B\")\n",
    "s.push(\"C\")\n",
    "print(s.get_stack())\n"
   ]
  },
  {
   "cell_type": "markdown",
   "metadata": {},
   "source": [
    "### alternative method"
   ]
  },
  {
   "cell_type": "code",
   "execution_count": 61,
   "metadata": {},
   "outputs": [
    {
     "name": "stdout",
     "output_type": "stream",
     "text": [
      "dlrow olleH\n"
     ]
    }
   ],
   "source": [
    "String = \"Hello world\"\n",
    "print(String[::-1])"
   ]
  },
  {
   "cell_type": "markdown",
   "metadata": {},
   "source": [
    "## Palindrome"
   ]
  },
  {
   "cell_type": "code",
   "execution_count": 66,
   "metadata": {},
   "outputs": [
    {
     "name": "stdout",
     "output_type": "stream",
     "text": [
      "1221\n",
      "Palindrome\n"
     ]
    }
   ],
   "source": [
    "# Python3 program for the  \n",
    "# practical application of reverse()  \n",
    "def split(word): \n",
    "    return [char for char in word]\n",
    "\n",
    "string = input()\n",
    "    \n",
    "list1 = split(string)\n",
    "  \n",
    "# store a copy of list \n",
    "list2 = list1.copy()   \n",
    "  \n",
    "# reverse the list \n",
    "list2.reverse()  \n",
    "  \n",
    "# compare reversed and origin123al list  \n",
    "if list1 == list2: \n",
    "    print(\"Palindrome\")  \n",
    "else: \n",
    "    print(\"Not Palindrome\")  "
   ]
  },
  {
   "cell_type": "markdown",
   "metadata": {},
   "source": [
    "## Fabonacci Series"
   ]
  },
  {
   "cell_type": "code",
   "execution_count": 87,
   "metadata": {},
   "outputs": [
    {
     "name": "stdout",
     "output_type": "stream",
     "text": [
      "How many terms? 6\n",
      "Fibonacci sequence:\n",
      "0\n",
      "1\n",
      "1\n",
      "2\n",
      "3\n",
      "5\n"
     ]
    }
   ],
   "source": [
    "def recur_fibo(n):  \n",
    "   if n <= 1:  \n",
    "       return n  \n",
    "   else:  \n",
    "       return(recur_fibo(n-1) + recur_fibo(n-2))  \n",
    "# take input from the user  \n",
    "nterms = int(input(\"How many terms? \"))  \n",
    "# check if the number of terms is valid  \n",
    "if nterms <= 0:  \n",
    "   print(\"Plese enter a positive integer\")  \n",
    "else:  \n",
    "   print(\"Fibonacci sequence:\")  \n",
    "   for i in range(nterms):  \n",
    "       print(recur_fibo(i)) "
   ]
  },
  {
   "cell_type": "markdown",
   "metadata": {},
   "source": [
    "## Linear search"
   ]
  },
  {
   "cell_type": "code",
   "execution_count": null,
   "metadata": {},
   "outputs": [],
   "source": []
  }
 ],
 "metadata": {
  "kernelspec": {
   "display_name": "Python 3",
   "language": "python",
   "name": "python3"
  },
  "language_info": {
   "codemirror_mode": {
    "name": "ipython",
    "version": 3
   },
   "file_extension": ".py",
   "mimetype": "text/x-python",
   "name": "python",
   "nbconvert_exporter": "python",
   "pygments_lexer": "ipython3",
   "version": "3.6.5"
  }
 },
 "nbformat": 4,
 "nbformat_minor": 2
}
