{
 "cells": [
  {
   "cell_type": "code",
   "execution_count": 1,
   "metadata": {},
   "outputs": [],
   "source": [
    "a = [2, 4, 6]"
   ]
  },
  {
   "cell_type": "code",
   "execution_count": 2,
   "metadata": {},
   "outputs": [
    {
     "name": "stdout",
     "output_type": "stream",
     "text": [
      "<map object at 0x11278e780>\n"
     ]
    }
   ],
   "source": [
    "print(map(lambda x: x**2, a))"
   ]
  },
  {
   "cell_type": "code",
   "execution_count": 3,
   "metadata": {},
   "outputs": [
    {
     "name": "stdout",
     "output_type": "stream",
     "text": [
      "[4, 16, 36]\n"
     ]
    }
   ],
   "source": [
    "b = [2,4,6]\n",
    "print(list(map(lambda x: x**2, b)))"
   ]
  },
  {
   "cell_type": "code",
   "execution_count": 4,
   "metadata": {},
   "outputs": [
    {
     "name": "stdout",
     "output_type": "stream",
     "text": [
      "[8, 64, 216]\n"
     ]
    }
   ],
   "source": [
    "def cubeit(n):\n",
    "    return n**3\n",
    "print(list(map(cubeit, b)))\n"
   ]
  },
  {
   "cell_type": "code",
   "execution_count": 5,
   "metadata": {},
   "outputs": [
    {
     "name": "stdout",
     "output_type": "stream",
     "text": [
      "[7, 10, 15, 14]\n"
     ]
    }
   ],
   "source": [
    "a = [3,5,9,7]\n",
    "b = (4,5,6,7)\n",
    "print(list(map(lambda x,y : x+y, a,b)))\n"
   ]
  },
  {
   "cell_type": "code",
   "execution_count": 6,
   "metadata": {},
   "outputs": [
    {
     "name": "stdout",
     "output_type": "stream",
     "text": [
      "[3, 6, 9]\n"
     ]
    }
   ],
   "source": [
    "#Filter\n",
    "divby3 = lambda x:  x % 3 == 0\n",
    "my_list = [3,4,5,6,7,8,9]\n",
    "div = filter(divby3, my_list)\n",
    "print(list(div))\n",
    "\n"
   ]
  },
  {
   "cell_type": "code",
   "execution_count": 9,
   "metadata": {},
   "outputs": [
    {
     "name": "stdout",
     "output_type": "stream",
     "text": [
      "45\n"
     ]
    }
   ],
   "source": [
    "#Reduce\n",
    "from functools import reduce\n",
    "a  = reduce(lambda x, y: x+y, range(1,10))\n",
    "print(a)\n"
   ]
  },
  {
   "cell_type": "code",
   "execution_count": 8,
   "metadata": {},
   "outputs": [
    {
     "name": "stdout",
     "output_type": "stream",
     "text": [
      "94\n"
     ]
    }
   ],
   "source": [
    "list_of_nums = [22,45,32,20,87,94,30]\n",
    "print(reduce(lambda x,y: x if x>y else y,list_of_nums))\n"
   ]
  },
  {
   "cell_type": "code",
   "execution_count": null,
   "metadata": {},
   "outputs": [],
   "source": []
  }
 ],
 "metadata": {
  "anaconda-cloud": {},
  "kernelspec": {
   "display_name": "Python [default]",
   "language": "python",
   "name": "python3"
  },
  "language_info": {
   "codemirror_mode": {
    "name": "ipython",
    "version": 3
   },
   "file_extension": ".py",
   "mimetype": "text/x-python",
   "name": "python",
   "nbconvert_exporter": "python",
   "pygments_lexer": "ipython3",
   "version": "3.5.4"
  }
 },
 "nbformat": 4,
 "nbformat_minor": 1
}
