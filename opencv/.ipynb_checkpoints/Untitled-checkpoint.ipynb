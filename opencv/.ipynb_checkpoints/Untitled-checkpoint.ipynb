{
 "cells": [
  {
   "cell_type": "code",
   "execution_count": 9,
   "metadata": {},
   "outputs": [],
   "source": [
    "import cv2\n",
    "import numpy as np\n",
    "\n",
    "def main():\n",
    "    img = np.zeros((512,512,3),np.uint8)#\n",
    "    cv2.line(img,(0,99),(99,0),(255,0,0),12)\n",
    "    cv2.rectangle(img,(340,260),(260,390),(0,255,0),2)\n",
    "    cv2.circle(img,(190,190),50,(0,0,255),5)\n",
    "    cv2.circle(img,(90,90),50,(0,0,255),-1)\n",
    "    cv2.imshow('drawing',img)\n",
    "    cv2.waitKey(0)\n",
    "    cv2.destroyWindow('drawing')\n",
    "    \n",
    "if __name__ == \"__main__\":\n",
    "    main()\n"
   ]
  },
  {
   "cell_type": "code",
   "execution_count": null,
   "metadata": {},
   "outputs": [],
   "source": []
  }
 ],
 "metadata": {
  "kernelspec": {
   "display_name": "Python 3",
   "language": "python",
   "name": "python3"
  },
  "language_info": {
   "codemirror_mode": {
    "name": "ipython",
    "version": 3
   },
   "file_extension": ".py",
   "mimetype": "text/x-python",
   "name": "python",
   "nbconvert_exporter": "python",
   "pygments_lexer": "ipython3",
   "version": "3.6.7"
  }
 },
 "nbformat": 4,
 "nbformat_minor": 2
}
